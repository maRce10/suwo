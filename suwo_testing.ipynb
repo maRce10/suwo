{
  "cells": [
    {
      "cell_type": "markdown",
      "metadata": {
        "id": "view-in-github",
        "colab_type": "text"
      },
      "source": [
        "<a href=\"https://colab.research.google.com/github/maRce10/suwo/blob/master/suwo_testing.ipynb\" target=\"_parent\"><img src=\"https://colab.research.google.com/assets/colab-badge.svg\" alt=\"Open In Colab\"/></a>"
      ]
    },
    {
      "cell_type": "markdown",
      "source": [
        "# testing suwo functions"
      ],
      "metadata": {
        "id": "tYUjQdoS823p"
      }
    },
    {
      "cell_type": "markdown",
      "source": [
        "## Installation\n",
        "\n",
        "install all packages and external dependencies:"
      ],
      "metadata": {
        "id": "05bsvm_f7UNt"
      }
    },
    {
      "cell_type": "code",
      "source": [
        "remotes::install_github(\"maRce10/suwo\")\n",
        "install.packages(\"testthat\")\n",
        "library(testthat)\n",
        "library(suwo)"
      ],
      "metadata": {
        "id": "JG2RGZR3zvfs",
        "colab": {
          "base_uri": "https://localhost:8080/"
        },
        "outputId": "010a695c-19e5-4b12-e50a-4900be2bb7b8"
      },
      "execution_count": 1,
      "outputs": [
        {
          "output_type": "stream",
          "name": "stderr",
          "text": [
            "Downloading GitHub repo maRce10/suwo@HEAD\n",
            "\n"
          ]
        },
        {
          "output_type": "stream",
          "name": "stdout",
          "text": [
            "parallelly   (NA   -> 1.45.1    ) [CRAN]\n",
            "listenv      (NA   -> 0.9.1     ) [CRAN]\n",
            "globals      (NA   -> 0.18.0    ) [CRAN]\n",
            "future       (NA   -> 1.67.0    ) [CRAN]\n",
            "SQUAREM      (NA   -> 2021.1    ) [CRAN]\n",
            "progressr    (NA   -> 0.16.0    ) [CRAN]\n",
            "numDeriv     (NA   -> 2016.8-1.1) [CRAN]\n",
            "future.apply (NA   -> 1.20.0    ) [CRAN]\n",
            "shape        (NA   -> 1.4.6.1   ) [CRAN]\n",
            "lava         (NA   -> 1.8.1     ) [CRAN]\n",
            "diagram      (NA   -> 1.6.5     ) [CRAN]\n",
            "prodlim      (NA   -> 2025.04.28) [CRAN]\n",
            "proxy        (NA   -> 0.4-27    ) [CRAN]\n",
            "plogr        (NA   -> 0.2.0     ) [CRAN]\n",
            "evd          (NA   -> 2.3-7.1   ) [CRAN]\n",
            "ipred        (NA   -> 0.9-15    ) [CRAN]\n",
            "ada          (NA   -> 2.0-5     ) [CRAN]\n",
            "e1071        (NA   -> 1.7-16    ) [CRAN]\n",
            "ff           (NA   -> 4.5.2     ) [CRAN]\n",
            "RSQLite      (NA   -> 2.4.3     ) [CRAN]\n",
            "svglite      (NA   -> 2.2.1     ) [CRAN]\n",
            "rmarkdown    (2.29 -> 2.30      ) [CRAN]\n",
            "bitops       (NA   -> 1.0-9     ) [CRAN]\n",
            "gridExtra    (NA   -> 2.3       ) [CRAN]\n",
            "RecordLin... (NA   -> 0.4-12.5  ) [CRAN]\n",
            "kableExtra   (NA   -> 1.4.0     ) [CRAN]\n",
            "RCurl        (NA   -> 1.98-1.17 ) [CRAN]\n",
            "viridis      (NA   -> 0.6.5     ) [CRAN]\n",
            "pbapply      (NA   -> 1.7-4     ) [CRAN]\n",
            "checkmate    (NA   -> 2.3.3     ) [CRAN]\n"
          ]
        },
        {
          "output_type": "stream",
          "name": "stderr",
          "text": [
            "Installing 30 packages: parallelly, listenv, globals, future, SQUAREM, progressr, numDeriv, future.apply, shape, lava, diagram, prodlim, proxy, plogr, evd, ipred, ada, e1071, ff, RSQLite, svglite, rmarkdown, bitops, gridExtra, RecordLinkage, kableExtra, RCurl, viridis, pbapply, checkmate\n",
            "\n",
            "Installing packages into ‘/usr/local/lib/R/site-library’\n",
            "(as ‘lib’ is unspecified)\n",
            "\n"
          ]
        },
        {
          "output_type": "stream",
          "name": "stdout",
          "text": [
            "\u001b[36m──\u001b[39m \u001b[36mR CMD build\u001b[39m \u001b[36m─────────────────────────────────────────────────────────────────\u001b[39m\n",
            "* checking for file ‘/tmp/Rtmpzz4FIK/remotes1d2575b18fa/maRce10-suwo-c63577a/DESCRIPTION’ ... OK\n",
            "* preparing ‘suwo’:\n",
            "* checking DESCRIPTION meta-information ... OK\n",
            "* checking for LF line-endings in source and make files and shell scripts\n",
            "* checking for empty or unneeded directories\n",
            "* looking to see if a ‘data/datalist’ file should be added\n",
            "* building ‘suwo_0.1.0.tar.gz’\n",
            "\n"
          ]
        },
        {
          "output_type": "stream",
          "name": "stderr",
          "text": [
            "Installing package into ‘/usr/local/lib/R/site-library’\n",
            "(as ‘lib’ is unspecified)\n",
            "\n",
            "Installing package into ‘/usr/local/lib/R/site-library’\n",
            "(as ‘lib’ is unspecified)\n",
            "\n",
            "\n",
            "Please cite 'suwo' as: \n",
            "\n",
            "\n",
            "Araya-Salas, M., & J. Elizondo-Calvo. 2023. suwo: access nature media repositories through R. R package version 0.1.0.\n",
            "\n"
          ]
        }
      ]
    },
    {
      "cell_type": "code",
      "source": [
        "system(\"git clone https://github.com/maRce10/suwo.git\")\n",
        "setwd(\"suwo\")\n"
      ],
      "metadata": {
        "id": "DbJGJIzHvRSZ"
      },
      "execution_count": 2,
      "outputs": []
    },
    {
      "cell_type": "code",
      "source": [
        "source(\"./R/internal_functions.R\")\n"
      ],
      "metadata": {
        "id": "ojR6jOOfkIHK"
      },
      "execution_count": 4,
      "outputs": []
    },
    {
      "cell_type": "code",
      "source": [
        "tests <- list.files(\"./tests/testthat\", pattern = \"R$\", full.names = TRUE)\n",
        "tests"
      ],
      "metadata": {
        "id": "7FIP5Q7PkfVq",
        "outputId": "ed5c7f5c-05e4-4e39-86a2-67430d298c3d",
        "colab": {
          "base_uri": "https://localhost:8080/",
          "height": 69
        }
      },
      "execution_count": 13,
      "outputs": [
        {
          "output_type": "display_data",
          "data": {
            "text/html": [
              "<style>\n",
              ".list-inline {list-style: none; margin:0; padding: 0}\n",
              ".list-inline>li {display: inline-block}\n",
              ".list-inline>li:not(:last-child)::after {content: \"\\00b7\"; padding: 0 .5ex}\n",
              "</style>\n",
              "<ol class=list-inline><li>'./tests/testthat/test_download_media.R'</li><li>'./tests/testthat/test_find_duplicates.R'</li><li>'./tests/testthat/test_gbif_datasets.R'</li><li>'./tests/testthat/test_merge_metadata.R'</li><li>'./tests/testthat/test_query_gbif.R'</li><li>'./tests/testthat/test_query_inaturalist.R'</li><li>'./tests/testthat/test_query_macaulay.R'</li><li>'./tests/testthat/test_query_observation.R'</li><li>'./tests/testthat/test_query_wikiaves.R'</li><li>'./tests/testthat/test_query_xenocanto.R'</li><li>'./tests/testthat/test_update_metadata.R'</li></ol>\n"
            ],
            "text/markdown": "1. './tests/testthat/test_download_media.R'\n2. './tests/testthat/test_find_duplicates.R'\n3. './tests/testthat/test_gbif_datasets.R'\n4. './tests/testthat/test_merge_metadata.R'\n5. './tests/testthat/test_query_gbif.R'\n6. './tests/testthat/test_query_inaturalist.R'\n7. './tests/testthat/test_query_macaulay.R'\n8. './tests/testthat/test_query_observation.R'\n9. './tests/testthat/test_query_wikiaves.R'\n10. './tests/testthat/test_query_xenocanto.R'\n11. './tests/testthat/test_update_metadata.R'\n\n\n",
            "text/latex": "\\begin{enumerate*}\n\\item './tests/testthat/test\\_download\\_media.R'\n\\item './tests/testthat/test\\_find\\_duplicates.R'\n\\item './tests/testthat/test\\_gbif\\_datasets.R'\n\\item './tests/testthat/test\\_merge\\_metadata.R'\n\\item './tests/testthat/test\\_query\\_gbif.R'\n\\item './tests/testthat/test\\_query\\_inaturalist.R'\n\\item './tests/testthat/test\\_query\\_macaulay.R'\n\\item './tests/testthat/test\\_query\\_observation.R'\n\\item './tests/testthat/test\\_query\\_wikiaves.R'\n\\item './tests/testthat/test\\_query\\_xenocanto.R'\n\\item './tests/testthat/test\\_update\\_metadata.R'\n\\end{enumerate*}\n",
            "text/plain": [
              " [1] \"./tests/testthat/test_download_media.R\"   \n",
              " [2] \"./tests/testthat/test_find_duplicates.R\"  \n",
              " [3] \"./tests/testthat/test_gbif_datasets.R\"    \n",
              " [4] \"./tests/testthat/test_merge_metadata.R\"   \n",
              " [5] \"./tests/testthat/test_query_gbif.R\"       \n",
              " [6] \"./tests/testthat/test_query_inaturalist.R\"\n",
              " [7] \"./tests/testthat/test_query_macaulay.R\"   \n",
              " [8] \"./tests/testthat/test_query_observation.R\"\n",
              " [9] \"./tests/testthat/test_query_wikiaves.R\"   \n",
              "[10] \"./tests/testthat/test_query_xenocanto.R\"  \n",
              "[11] \"./tests/testthat/test_update_metadata.R\"  "
            ]
          },
          "metadata": {}
        }
      ]
    },
    {
      "cell_type": "code",
      "source": [
        "for (i in tests){\n",
        "print(basename(i))\n",
        "source(i)\n",
        "}"
      ],
      "metadata": {
        "id": "6K9YnHGzlj3b",
        "outputId": "536f0d9a-2c03-4559-d2bf-eb31a4f154ed",
        "colab": {
          "base_uri": "https://localhost:8080/"
        }
      },
      "execution_count": 14,
      "outputs": [
        {
          "output_type": "stream",
          "name": "stdout",
          "text": [
            "[1] \"test_download_media.R\"\n",
            "\u001b[32mTest passed\u001b[39m 🌈\n",
            "\u001b[32mTest passed\u001b[39m 😀\n",
            "\u001b[32mTest passed\u001b[39m 🥇\n",
            "\u001b[32mTest passed\u001b[39m 😀\n",
            "\u001b[32mTest passed\u001b[39m 🎊\n",
            "\u001b[32mTest passed\u001b[39m 🎉\n",
            "\u001b[32mTest passed\u001b[39m 😀\n",
            "\u001b[32mTest passed\u001b[39m 🎉\n",
            "\u001b[32mTest passed\u001b[39m 🥇\n",
            "── \u001b[1m\u001b[34mSkip\u001b[39m: search macaulay sp download all_data = TRUE\u001b[22m ───────────────────────────\n",
            "Reason: interactive() is not TRUE\n",
            "\n",
            "── \u001b[1m\u001b[34mSkip\u001b[39m: search macaulay Harpia harpyja download sound all_data = FALSE\u001b[22m ────────\n",
            "Reason: interactive() is not TRUE\n",
            "\n",
            "── \u001b[1m\u001b[34mSkip\u001b[39m: search macaulay sp download video all_data = FALSE\u001b[22m ────────────────────\n",
            "Reason: interactive() is not TRUE\n",
            "\n",
            "[1] \"test_find_duplicates.R\"\n",
            "\u001b[32mTest passed\u001b[39m 😀\n",
            "[1] \"test_gbif_datasets.R\"\n",
            "\u001b[32mTest passed\u001b[39m 🥳\n",
            "[1] \"test_merge_metadata.R\"\n",
            "\u001b[32mTest passed\u001b[39m 🌈\n",
            "[1] \"test_query_gbif.R\"\n",
            "\u001b[32mTest passed\u001b[39m 🎊\n",
            "\u001b[32mTest passed\u001b[39m 🎊\n",
            "No connection to GBIF API (check your internet connection!)\n",
            "\u001b[32mTest passed\u001b[39m 🥇\n",
            "\u001b[32mTest passed\u001b[39m 😀\n",
            "\u001b[32mTest passed\u001b[39m 😸\n",
            "\u001b[32mTest passed\u001b[39m 🎊\n",
            "12 observations do not have a download link and were removed from the results (saved at `options('gbif_excluded_results')`).\u001b[32mTest passed\u001b[39m 🥇\n",
            "\u001b[32mTest passed\u001b[39m 🥇\n",
            "\u001b[32mTest passed\u001b[39m 🎊\n",
            "[1] \"test_query_inaturalist.R\"\n",
            "\u001b[32mTest passed\u001b[39m 🌈\n",
            "\u001b[32mTest passed\u001b[39m 🎊\n",
            "\u001b[32mTest passed\u001b[39m 🎉\n",
            "\u001b[32mTest passed\u001b[39m 😀\n",
            "\u001b[32mTest passed\u001b[39m 🥳\n",
            "\u001b[32mTest passed\u001b[39m 🥳\n",
            "\u001b[32mTest passed\u001b[39m 🥳\n",
            "[1] \"test_query_macaulay.R\"\n",
            "── \u001b[1m\u001b[34mSkip\u001b[39m: search Glaucis dohrnii sound\u001b[22m ──────────────────────────────────────────\n",
            "Reason: interactive() is not TRUE\n",
            "\n",
            "── \u001b[1m\u001b[34mSkip\u001b[39m: search Glaucis dohrnii images\u001b[22m ─────────────────────────────────────────\n",
            "Reason: interactive() is not TRUE\n",
            "\n",
            "── \u001b[1m\u001b[34mSkip\u001b[39m: paging by date\u001b[22m ────────────────────────────────────────────────────────\n",
            "Reason: interactive() is not TRUE\n",
            "\n",
            "[1] \"test_query_observation.R\"\n",
            "Species was not found in database\u001b[32mTest passed\u001b[39m 😀\n",
            "Species was not found in database\u001b[32mTest passed\u001b[39m 🎉\n",
            "Invalid token for observation.org\u001b[32mTest passed\u001b[39m 🌈\n",
            "[1] \"test_query_wikiaves.R\"\n",
            "\u001b[32mTest passed\u001b[39m 😀\n",
            "\u001b[32mTest passed\u001b[39m 🌈\n",
            "\u001b[32mTest passed\u001b[39m 🌈\n",
            "\u001b[32mTest passed\u001b[39m 🎊\n",
            "\u001b[32mTest passed\u001b[39m 😀\n",
            "\u001b[32mTest passed\u001b[39m 🎊\n",
            "[1] \"test_query_xenocanto.R\"\n",
            "\u001b[32mTest passed\u001b[39m 🥇\n",
            "\u001b[32mTest passed\u001b[39m 🥳\n",
            "\u001b[32mTest passed\u001b[39m 🌈\n",
            "\u001b[32mTest passed\u001b[39m 🥳\n",
            "\u001b[32mTest passed\u001b[39m 🎊\n",
            "\u001b[32mTest passed\u001b[39m 🥳\n",
            "[1] \"test_update_metadata.R\"\n",
            "\u001b[32mTest passed\u001b[39m 🥇\n",
            "\u001b[32mTest passed\u001b[39m 🥳\n",
            "\u001b[32mTest passed\u001b[39m 🎊\n",
            "\u001b[32mTest passed\u001b[39m 🥳\n",
            "── \u001b[1m\u001b[34mSkip\u001b[39m: update query_macaulay\u001b[22m ─────────────────────────────────────────────────\n",
            "Reason: interactive() is not TRUE\n",
            "\n",
            "── \u001b[1m\u001b[34mSkip\u001b[39m: update query_macaulay with paging\u001b[22m ─────────────────────────────────────\n",
            "Reason: interactive() is not TRUE\n",
            "\n"
          ]
        }
      ]
    }
  ],
  "metadata": {
    "anaconda-cloud": "",
    "kernelspec": {
      "display_name": "R",
      "langauge": "R",
      "name": "ir"
    },
    "language_info": {
      "codemirror_mode": "r",
      "file_extension": ".r",
      "mimetype": "text/x-r-source",
      "name": "R",
      "pygments_lexer": "r",
      "version": "3.4.1"
    },
    "colab": {
      "provenance": [],
      "include_colab_link": true
    }
  },
  "nbformat": 4,
  "nbformat_minor": 0
}