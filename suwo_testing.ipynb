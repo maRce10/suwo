{
  "cells": [
    {
      "cell_type": "markdown",
      "metadata": {
        "id": "view-in-github",
        "colab_type": "text"
      },
      "source": [
        "<a href=\"https://colab.research.google.com/github/maRce10/suwo/blob/master/suwo_testing.ipynb\" target=\"_parent\"><img src=\"https://colab.research.google.com/assets/colab-badge.svg\" alt=\"Open In Colab\"/></a>"
      ]
    },
    {
      "cell_type": "markdown",
      "source": [
        "# testing suwo functions"
      ],
      "metadata": {
        "id": "tYUjQdoS823p"
      }
    },
    {
      "cell_type": "markdown",
      "source": [
        "## Installation\n",
        "\n",
        "install all packages and external dependencies:"
      ],
      "metadata": {
        "id": "05bsvm_f7UNt"
      }
    },
    {
      "cell_type": "code",
      "source": [
        "#system(\"sudo apt install fftw3 ffmpeg libsndfile1 libsndfile1-dev libfftw3-3 libfftw3-dev\")\n",
        "remotes::install_github(\"maRce10/suwo\")\n",
        "install.packages(\"testthat\")\n",
        "library(testthat)\n",
        "library(suwo)"
      ],
      "metadata": {
        "id": "JG2RGZR3zvfs",
        "colab": {
          "base_uri": "https://localhost:8080/"
        },
        "outputId": "882b0083-b9cf-460e-ec31-03f5487b4f33"
      },
      "execution_count": null,
      "outputs": [
        {
          "output_type": "stream",
          "name": "stderr",
          "text": [
            "Downloading GitHub repo maRce10/suwo@HEAD\n",
            "\n"
          ]
        },
        {
          "output_type": "stream",
          "name": "stdout",
          "text": [
            "bitops    (NA -> 1.0-9    ) [CRAN]\n",
            "gridExtra (NA -> 2.3      ) [CRAN]\n",
            "RCurl     (NA -> 1.98-1.17) [CRAN]\n",
            "viridis   (NA -> 0.6.5    ) [CRAN]\n",
            "pbapply   (NA -> 1.7-4    ) [CRAN]\n",
            "checkmate (NA -> 2.3.3    ) [CRAN]\n"
          ]
        },
        {
          "output_type": "stream",
          "name": "stderr",
          "text": [
            "Installing 6 packages: bitops, gridExtra, RCurl, viridis, pbapply, checkmate\n",
            "\n",
            "Installing packages into ‘/usr/local/lib/R/site-library’\n",
            "(as ‘lib’ is unspecified)\n",
            "\n"
          ]
        }
      ]
    },
    {
      "cell_type": "code",
      "source": [
        "system(\"git clone https://github.com/maRce10/suwo.git\")\n",
        "setwd(\"suwo\")"
      ],
      "metadata": {
        "id": "DbJGJIzHvRSZ"
      },
      "execution_count": null,
      "outputs": []
    },
    {
      "cell_type": "code",
      "source": [
        "source(\"./tests/testthat/test_query_xenocanto.R\")\n"
      ],
      "metadata": {
        "colab": {
          "base_uri": "https://localhost:8080/"
        },
        "id": "JEDFE9xfwrhZ",
        "outputId": "b4b36bb6-3c0b-4a69-edda-658b22eccea4"
      },
      "execution_count": null,
      "outputs": [
        {
          "output_type": "stream",
          "name": "stdout",
          "text": [
            "\u001b[32mTest passed\u001b[39m 😀\n",
            "\u001b[32mTest passed\u001b[39m 🌈\n",
            "\u001b[32mTest passed\u001b[39m 😀\n",
            "\u001b[32mTest passed\u001b[39m 😀\n",
            "\u001b[32mTest passed\u001b[39m 🎊\n"
          ]
        }
      ]
    },
    {
      "cell_type": "code",
      "source": [
        "source(\"./tests/testthat/test_query_gbif.R\")\n"
      ],
      "metadata": {
        "colab": {
          "base_uri": "https://localhost:8080/"
        },
        "id": "m2-SZSlyiy2y",
        "outputId": "ff08af45-8f7b-453d-de0e-397d182fbfea"
      },
      "execution_count": null,
      "outputs": [
        {
          "output_type": "stream",
          "name": "stdout",
          "text": [
            "\u001b[32mTest passed\u001b[39m 😸\n",
            "\u001b[32mTest passed\u001b[39m 🥇\n",
            "\u001b[32mTest passed\u001b[39m 🌈\n",
            "\u001b[32mTest passed\u001b[39m 🥳\n",
            "\u001b[32mTest passed\u001b[39m 🎊\n",
            "\u001b[32mTest passed\u001b[39m 🎊\n",
            "\u001b[32mTest passed\u001b[39m 😸\n",
            "\u001b[32mTest passed\u001b[39m 😀\n",
            "\u001b[32mTest passed\u001b[39m 🥳\n"
          ]
        }
      ]
    },
    {
      "cell_type": "code",
      "source": [
        "source(\"./tests/testthat/test_query_inaturalist.R\")\n"
      ],
      "metadata": {
        "colab": {
          "base_uri": "https://localhost:8080/"
        },
        "id": "U7a74suei0rf",
        "outputId": "53d5d3ed-793d-4a10-8765-3820be88165a"
      },
      "execution_count": null,
      "outputs": [
        {
          "output_type": "stream",
          "name": "stdout",
          "text": [
            "\u001b[32mTest passed\u001b[39m 🥇\n",
            "\u001b[32mTest passed\u001b[39m 🎊\n",
            "\u001b[32mTest passed\u001b[39m 🥳\n",
            "\u001b[32mTest passed\u001b[39m 🎊\n",
            "\u001b[32mTest passed\u001b[39m 🎉\n",
            "\u001b[32mTest passed\u001b[39m 🥇\n",
            "\u001b[32mTest passed\u001b[39m 🎉\n"
          ]
        }
      ]
    },
    {
      "cell_type": "code",
      "source": [
        "source(\"./tests/testthat/test_taxon_code_search.R\")"
      ],
      "metadata": {
        "colab": {
          "base_uri": "https://localhost:8080/"
        },
        "id": "vKC3irO3xf3V",
        "outputId": "4e3f2532-10d8-4986-bfd4-80e4953bae45"
      },
      "execution_count": null,
      "outputs": [
        {
          "output_type": "stream",
          "name": "stdout",
          "text": [
            "\u001b[32mTest passed\u001b[39m 😀\n",
            "\u001b[32mTest passed\u001b[39m 🥳\n",
            "\u001b[32mTest passed\u001b[39m 🎉\n"
          ]
        }
      ]
    },
    {
      "cell_type": "code",
      "source": [
        "source(\"./tests/testthat/test_gbif_datasets.R\")"
      ],
      "metadata": {
        "colab": {
          "base_uri": "https://localhost:8080/"
        },
        "id": "1M8y6SuF0TpX",
        "outputId": "42214305-4649-4b24-a236-9c0c69f3ab7a"
      },
      "execution_count": null,
      "outputs": [
        {
          "output_type": "stream",
          "name": "stdout",
          "text": [
            "\u001b[32mTest passed\u001b[39m 😀\n"
          ]
        }
      ]
    },
    {
      "cell_type": "code",
      "source": [
        "source(\"./tests/testthat/test_query_wikiaves.R\")"
      ],
      "metadata": {
        "colab": {
          "base_uri": "https://localhost:8080/",
          "height": 1000
        },
        "id": "ouWloAgBxa52",
        "outputId": "aada3e46-938c-4378-b46f-d07901e61054"
      },
      "execution_count": null,
      "outputs": [
        {
          "output_type": "stream",
          "name": "stdout",
          "text": [
            "── \u001b[1m\u001b[35mWarning\u001b[39m: search Glaucis dohrnii sound\u001b[22m ───────────────────────────────────────\n",
            "cannot open URL 'https://www.wikiaves.com.br/getRegistrosJSON.php?tm=s&t=s&s=10584&o=mp&p=1': HTTP status was '403 Forbidden'\n",
            "\u001b[1mBacktrace:\u001b[22m\n",
            "\u001b[90m     \u001b[39m▆\n",
            "\u001b[90m  1. \u001b[39m└─\u001b[1msuwo\u001b[22m::query_wikiaves(term = \"Glaucis dohrnii\", format = \"sound\")\n",
            "\u001b[90m  2. \u001b[39m  └─suwo:::pblapply_sw_int(...)\n",
            "\u001b[90m  3. \u001b[39m    └─\u001b[1mbase\u001b[22m::lapply(X[Split[[i]]], FUN, ...)\n",
            "\u001b[90m  4. \u001b[39m      └─\u001b[1msuwo\u001b[22m (local) FUN(X[[i]], ...)\n",
            "\u001b[90m  5. \u001b[39m        ├─\u001b[1mbase\u001b[22m::try(...)\n",
            "\u001b[90m  6. \u001b[39m        │ └─base::tryCatch(...)\n",
            "\u001b[90m  7. \u001b[39m        │   └─base (local) tryCatchList(expr, classes, parentenv, handlers)\n",
            "\u001b[90m  8. \u001b[39m        │     └─base (local) tryCatchOne(expr, names, parentenv, handlers[[1L]])\n",
            "\u001b[90m  9. \u001b[39m        │       └─base (local) doTryCatch(return(expr), name, parentenv, handler)\n",
            "\u001b[90m 10. \u001b[39m        └─\u001b[1mjsonlite\u001b[22m::fromJSON(...)\n",
            "\u001b[90m 11. \u001b[39m          └─jsonlite:::parse_and_simplify(...)\n",
            "\u001b[90m 12. \u001b[39m            └─jsonlite:::parseJSON(txt, bigint_as_char)\n",
            "\u001b[90m 13. \u001b[39m              └─jsonlite:::parse_con(txt, bigint_as_char)\n",
            "\u001b[90m 14. \u001b[39m                ├─\u001b[1mbase\u001b[22m::open(con, \"rb\")\n",
            "\u001b[90m 15. \u001b[39m                └─base::open.connection(con, \"rb\")\n",
            "\n",
            "── \u001b[1m\u001b[35mWarning\u001b[39m: search Glaucis dohrnii sound\u001b[22m ───────────────────────────────────────\n",
            "cannot open URL 'https://www.wikiaves.com.br/getRegistrosJSON.php?tm=s&t=s&s=10584&o=mp&p=1': HTTP status was '403 Forbidden'\n",
            "\u001b[1mBacktrace:\u001b[22m\n",
            "\u001b[90m     \u001b[39m▆\n",
            "\u001b[90m  1. \u001b[39m└─\u001b[1msuwo\u001b[22m::query_wikiaves(term = \"Glaucis dohrnii\", format = \"sound\")\n",
            "\u001b[90m  2. \u001b[39m  └─suwo:::pblapply_sw_int(...)\n",
            "\u001b[90m  3. \u001b[39m    └─\u001b[1mbase\u001b[22m::lapply(X[Split[[i]]], FUN, ...)\n",
            "\u001b[90m  4. \u001b[39m      └─\u001b[1msuwo\u001b[22m (local) FUN(X[[i]], ...)\n",
            "\u001b[90m  5. \u001b[39m        └─\u001b[1mjsonlite\u001b[22m::fromJSON(...)\n",
            "\u001b[90m  6. \u001b[39m          └─jsonlite:::parse_and_simplify(...)\n",
            "\u001b[90m  7. \u001b[39m            └─jsonlite:::parseJSON(txt, bigint_as_char)\n",
            "\u001b[90m  8. \u001b[39m              └─jsonlite:::parse_con(txt, bigint_as_char)\n",
            "\u001b[90m  9. \u001b[39m                ├─\u001b[1mbase\u001b[22m::open(con, \"rb\")\n",
            "\u001b[90m 10. \u001b[39m                └─base::open.connection(con, \"rb\")\n",
            "\n",
            "── \u001b[1m\u001b[33mError\u001b[39m: search Glaucis dohrnii sound\u001b[22m ─────────────────────────────────────────\n",
            "Error in `open.connection(con, \"rb\")`: cannot open the connection to 'https://www.wikiaves.com.br/getRegistrosJSON.php?tm=s&t=s&s=10584&o=mp&p=1'\n",
            "\u001b[1mBacktrace:\u001b[22m\n",
            "\u001b[90m     \u001b[39m▆\n",
            "\u001b[90m  1. \u001b[39m└─\u001b[1msuwo\u001b[22m::query_wikiaves(term = \"Glaucis dohrnii\", format = \"sound\")\n",
            "\u001b[90m  2. \u001b[39m  └─suwo:::pblapply_sw_int(...)\n",
            "\u001b[90m  3. \u001b[39m    └─\u001b[1mbase\u001b[22m::lapply(X[Split[[i]]], FUN, ...)\n",
            "\u001b[90m  4. \u001b[39m      └─\u001b[1msuwo\u001b[22m (local) FUN(X[[i]], ...)\n",
            "\u001b[90m  5. \u001b[39m        └─\u001b[1mjsonlite\u001b[22m::fromJSON(...)\n",
            "\u001b[90m  6. \u001b[39m          └─jsonlite:::parse_and_simplify(...)\n",
            "\u001b[90m  7. \u001b[39m            └─jsonlite:::parseJSON(txt, bigint_as_char)\n",
            "\u001b[90m  8. \u001b[39m              └─jsonlite:::parse_con(txt, bigint_as_char)\n",
            "\u001b[90m  9. \u001b[39m                ├─\u001b[1mbase\u001b[22m::open(con, \"rb\")\n",
            "\u001b[90m 10. \u001b[39m                └─base::open.connection(con, \"rb\")\n",
            "\n"
          ]
        },
        {
          "output_type": "error",
          "ename": "ERROR",
          "evalue": "\u001b[1m\u001b[33mError\u001b[39m:\u001b[22m\n\u001b[33m!\u001b[39m Test failed\n",
          "traceback": [
            "\u001b[1m\u001b[33mError\u001b[39m:\u001b[22m\n\u001b[33m!\u001b[39m Test failed\nTraceback:\n",
            "1. withVisible(eval(ei, envir))",
            "2. eval(ei, envir)",
            "3. eval(ei, envir)",
            "4. test_that(\"search Glaucis dohrnii sound\", {\n .     skip_on_cran()\n .     skip_if_offline()\n .     df1 <- query_wikiaves(term = \"Glaucis dohrnii\", format = \"sound\")\n .     expect_true(nrow(df1) >= 30)\n . })",
            "5. (function () \n . expr)()",
            "6. reporter$stop_if_needed()",
            "7. abort(\"Test failed\", call = NULL)",
            "8. signal_abort(cnd, .file)",
            "9. signalCondition(cnd)"
          ]
        }
      ]
    }
  ],
  "metadata": {
    "anaconda-cloud": "",
    "kernelspec": {
      "display_name": "R",
      "langauge": "R",
      "name": "ir"
    },
    "language_info": {
      "codemirror_mode": "r",
      "file_extension": ".r",
      "mimetype": "text/x-r-source",
      "name": "R",
      "pygments_lexer": "r",
      "version": "3.4.1"
    },
    "colab": {
      "provenance": [],
      "include_colab_link": true
    }
  },
  "nbformat": 4,
  "nbformat_minor": 0
}